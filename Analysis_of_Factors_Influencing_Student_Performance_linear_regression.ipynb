{
  "nbformat": 4,
  "nbformat_minor": 0,
  "metadata": {
    "colab": {
      "provenance": []
    },
    "kernelspec": {
      "name": "python3",
      "display_name": "Python 3"
    },
    "language_info": {
      "name": "python"
    }
  },
  "cells": [
    {
      "cell_type": "code",
      "source": [
        "import pandas as pd\n",
        "import requests\n",
        "from zipfile import ZipFile\n",
        "from sklearn.model_selection import train_test_split, cross_val_score\n",
        "from sklearn.linear_model import LinearRegression\n",
        "from sklearn.metrics import mean_squared_error\n",
        "\n",
        "# URL and filenames\n",
        "url = 'https://archive.ics.uci.edu/ml/machine-learning-databases/00320/student.zip'\n",
        "zip_filename = 'student.zip'\n",
        "extract_folder = 'student'\n",
        "\n",
        "# Function to download and extract the dataset\n",
        "def download_and_extract(url, zip_filename, extract_folder):\n",
        "    # Download the zip file\n",
        "    response = requests.get(url, stream=True)\n",
        "    with open(zip_filename, 'wb') as f:\n",
        "        f.write(response.content)\n",
        "\n",
        "    # Extract the contents\n",
        "    with ZipFile(zip_filename, 'r') as zip_ref:\n",
        "        zip_ref.extractall(extract_folder)\n",
        "\n",
        "    print(f'Dataset extracted to folder: {extract_folder}')\n",
        "\n",
        "# Function to load dataset into pandas DataFrame\n",
        "def load_dataset(extract_folder):\n",
        "    # List the files in the extracted folder\n",
        "    extracted_files = os.listdir(extract_folder)\n",
        "    print('Extracted Files:', extracted_files)\n",
        "\n",
        "    # Load the dataset into pandas DataFrame\n",
        "    mat_data = pd.read_csv(os.path.join(extract_folder, 'student-mat.csv'), sep=';')\n",
        "    por_data = pd.read_csv(os.path.join(extract_folder, 'student-por.csv'), sep=';')\n",
        "\n",
        "    return mat_data, por_data\n",
        "\n",
        "# Main function to orchestrate the process\n",
        "def main():\n",
        "    # Download and extract the dataset\n",
        "    download_and_extract(url, zip_filename, extract_folder)\n",
        "\n",
        "    # Load the dataset (assuming 'student-mat.csv' is used for this example)\n",
        "    mat_data, por_data = load_dataset(extract_folder)\n",
        "\n",
        "    # Select relevant features and target variable\n",
        "    features = ['Medu', 'studytime', 'absences', 'Dalc', 'Walc']\n",
        "    X = mat_data[features]\n",
        "    y = mat_data['G3']\n",
        "\n",
        "    # Split data into training and testing sets\n",
        "    X_train, X_test, y_train, y_test = train_test_split(X, y, test_size=0.2, random_state=42)\n",
        "\n",
        "    # Initialize and fit the model\n",
        "    model = LinearRegression()\n",
        "    model.fit(X_train, y_train)\n",
        "\n",
        "    # Predict on the test set\n",
        "    y_pred = model.predict(X_test)\n",
        "\n",
        "    # Evaluate model performance\n",
        "    mse = mean_squared_error(y_test, y_pred)\n",
        "    print(f'\\nMean Squared Error: {mse}')\n",
        "\n",
        "    # Cross-validation for additional evaluation\n",
        "    cv_scores = cross_val_score(model, X, y, cv=5)\n",
        "    print(f'Cross-Validation Scores: {cv_scores}')\n",
        "    print(f'Average Cross-Validation Score: {cv_scores.mean()}')\n",
        "\n",
        "    # Example prediction\n",
        "    sample_data = X_test.head(1)\n",
        "    predicted_grade = model.predict(sample_data)[0]\n",
        "    print(f'\\nExample Prediction: Predicted Grade = {predicted_grade:.2f}')\n",
        "\n",
        "    # Clean up: Delete the downloaded zip file after extraction\n",
        "    os.remove(zip_filename)\n",
        "    print(f'\\nDeleted {zip_filename}')\n",
        "\n",
        "if __name__ == '__main__':\n",
        "    main()\n"
      ],
      "metadata": {
        "colab": {
          "base_uri": "https://localhost:8080/"
        },
        "id": "okVJ2xTW-LPM",
        "outputId": "906feac8-7f7c-4ac5-a6ff-5d708d2067b3"
      },
      "execution_count": 4,
      "outputs": [
        {
          "output_type": "stream",
          "name": "stdout",
          "text": [
            "Dataset extracted to folder: student\n",
            "Extracted Files: ['student.txt', 'student-mat.csv', 'student-por.csv', 'student-merge.R']\n",
            "\n",
            "Mean Squared Error: 20.7125800877253\n",
            "Cross-Validation Scores: [-0.11252529 -0.01992873  0.02926078 -0.03513501  0.04773784]\n",
            "Average Cross-Validation Score: -0.01811808371183197\n",
            "\n",
            "Example Prediction: Predicted Grade = 9.01\n",
            "\n",
            "Deleted student.zip\n"
          ]
        }
      ]
    }
  ]
}